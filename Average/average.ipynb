{
 "cells": [
  {
   "cell_type": "markdown",
   "metadata": {},
   "source": [
    "Aidan Holcombe\n",
    "\n",
    "# Average Ratings\n",
    "\n",
    "The following notebook includes code for finding the average ratings in a dataset where the data is presented as a sparse user-item matrix. Users can get recommendations in a batch format, ensuring that there is no limit on the size of the test set. The results of the model are as follows:\n",
    "\n",
    "|    |RMSE| $r^2$ score|Fraction of user-movie pairs with non-zero predicted ratings| Sparsity|\n",
    "|----|----|------------|-|-|\n",
    "|Zeros Excluded|0.967|0.166|0.999|0.915|\n",
    "|Zeros Included|3.36 |-9.05|0.999|0.915|\n",
    "\n",
    "What I learned\n",
    "* How to work with CSR Matrices.\n",
    "    * Scipy has relatively few methods that allow you to manipulate sparse matrices, so I had to implement several things myself where I was manipulating the underlying data structures directly. This gave me a much stronger understanding of how CSR matrices work and I feel much more comfortable working with them.\n",
    "* Managing large datasets. \n",
    "    * The biggest struggle I had during this lab was how to work with the large amount of data without running into memory errors. This was mostly solved with batching, which to be honest took an embarrassingly long amount of time to think through but was successful once I got there.\n",
    "* For this case excluding zeros results in much better recommendations.\n",
    "    * I had this intuition coming into this as somebody not watching a movie isn't always the same as them not liking it, but the experiment solidified this hypothesis."
   ]
  },
  {
   "cell_type": "code",
   "execution_count": 1,
   "metadata": {},
   "outputs": [],
   "source": [
    "import os\n",
    "import numpy as np\n",
    "import pandas as pd\n",
    "import matplotlib.pyplot as plt\n",
    "from scipy.sparse import csr_matrix, vstack\n",
    "from sklearn.model_selection import train_test_split as sklearn_train_test_split\n",
    "from sklearn.metrics import mean_squared_error, r2_score\n",
    "from math import floor, sqrt\n",
    "from tqdm import tqdm"
   ]
  },
  {
   "cell_type": "markdown",
   "metadata": {},
   "source": [
    "## Importing Data"
   ]
  },
  {
   "cell_type": "code",
   "execution_count": 2,
   "metadata": {},
   "outputs": [],
   "source": [
    "def load_data(sample):\n",
    "    folder_path = \"PATH_TO_YOUR_MOVIE_LENS_DATA\"\n",
    "    ratings_path = folder_path + \"\\\\ratings.csv\"\n",
    "\n",
    "    if sample:\n",
    "        ratings_path = \"PATH_TO_ANY_SAMPLE_DATA\"\n",
    "    ratings = pd.read_csv(ratings_path)\n",
    "    if not sample:\n",
    "        original_movie_ids = set(ratings['movieId'])\n",
    "        movie_id_map = {original: new for new, original in enumerate(original_movie_ids)}\n",
    "        ratings['movieId'] = ratings['movieId'].map(movie_id_map)\n",
    "    return ratings"
   ]
  },
  {
   "cell_type": "code",
   "execution_count": 3,
   "metadata": {},
   "outputs": [],
   "source": [
    "ratings = load_data(sample=False)\n",
    "data = csr_matrix((ratings['rating'], (ratings['userId'], ratings['movieId'])))"
   ]
  },
  {
   "cell_type": "code",
   "execution_count": 4,
   "metadata": {},
   "outputs": [
    {
     "name": "stdout",
     "output_type": "stream",
     "text": [
      "(162542, 59047)\n"
     ]
    }
   ],
   "source": [
    "print(data.shape)"
   ]
  },
  {
   "cell_type": "markdown",
   "metadata": {},
   "source": [
    "# Average Rating Class"
   ]
  },
  {
   "cell_type": "code",
   "execution_count": 5,
   "metadata": {},
   "outputs": [],
   "source": [
    "class AverageRating:\n",
    "    def __init__(self, withZeros=False):\n",
    "        self.predictions = None\n",
    "        self.withZeros = withZeros\n",
    "\n",
    "    def fit(self, training_ratings):\n",
    "        predictions = None\n",
    "        if self.withZeros:\n",
    "            predictions = training_ratings.mean(axis=0)\n",
    "        else:\n",
    "            sums = training_ratings.sum(axis=0)\n",
    "            nnz = training_ratings.getnnz(axis=0)\n",
    "            nnz = [1 if n == 0 else n for n in nnz] # make sure we aren't dividing by zero\n",
    "            predictions = sums / nnz\n",
    "        predictions = csr_matrix(predictions, dtype=np.float32)\n",
    "        self.predictions = predictions\n",
    "        \n",
    "    def predict(self, user_ratings):\n",
    "        if self.predictions is None:\n",
    "            raise Exception(\"Must fit before predicting\")\n",
    "        prediction_matrix = self.__expand_csr(self.predictions, user_ratings.shape[0])\n",
    "        return prediction_matrix\n",
    "    \n",
    "    def __expand_csr(self, csr, n_rows):\n",
    "        \"\"\"\n",
    "        Expands a csr matrix that is a row vector into a matrix.\n",
    "        It duplicates the row passed in n_rows times.\n",
    "        \"\"\"\n",
    "        \n",
    "        new_data = np.tile(csr.data, n_rows)\n",
    "        new_indices = np.tile(csr.indices, n_rows)\n",
    "        indptr = csr.indptr\n",
    "        row_length = indptr[1]\n",
    "        new_indptr = np.linspace(0,row_length*n_rows, n_rows + 1)\n",
    "        return csr_matrix((new_data.astype(np.float32), new_indices.astype(np.int32), new_indptr.astype(np.int32)), dtype=np.float32)"
   ]
  },
  {
   "cell_type": "markdown",
   "metadata": {},
   "source": [
    "# Train Test Split"
   ]
  },
  {
   "cell_type": "code",
   "execution_count": 6,
   "metadata": {},
   "outputs": [],
   "source": [
    "class DataPrep:\n",
    "    \"\"\"\n",
    "    Class for splitting data.\n",
    "    \"\"\"\n",
    "    def __init__(self, data, train_size=0.8):\n",
    "        self.raw_data = data\n",
    "        self.train_size = train_size\n",
    "        self.train = None\n",
    "        self.test = None\n",
    "        self.seen = None\n",
    "        self.unseen = None\n",
    "\n",
    "    def split(self):\n",
    "        \"\"\"\n",
    "        Splits data into train and test. Also splits test data into seen and unseen groups.\n",
    "        \"\"\"\n",
    "        self.train, self.test = DataPrep.train_test_split(self.raw_data, train_size=self.train_size)\n",
    "        self.seen, self.unseen = DataPrep.user_split(self.test)\n",
    "        return self.train, self.seen, self.unseen\n",
    "    \n",
    "    @staticmethod\n",
    "    def train_test_split(data, train_size):\n",
    "        train, test = sklearn_train_test_split(data, train_size=train_size)\n",
    "        return train, test\n",
    "\n",
    "    @staticmethod\n",
    "    def user_split(user_item_matrix: csr_matrix, split=0.8):\n",
    "        seen_data = np.array([])\n",
    "        seen_indices = np.array([])\n",
    "        seen_indptr = np.array([0])\n",
    "\n",
    "        unseen_data = np.array([])\n",
    "        unseen_indices = np.array([])\n",
    "        unseen_indptr = np.array([0])\n",
    "\n",
    "        for i in range(len(user_item_matrix.indptr.copy()) - 1):\n",
    "            row_start = user_item_matrix.indptr[i]\n",
    "            row_end   = user_item_matrix.indptr[i+1] \n",
    "            sample_size = floor((row_end - row_start) * split)\n",
    "            if sample_size == 0: #ensures something is in the test data\n",
    "                sample_size += 1\n",
    "\n",
    "            row_indices = user_item_matrix.indices[row_start: row_end]\n",
    "            row_data = user_item_matrix.data[row_start: row_end]\n",
    "\n",
    "\n",
    "            data_idx = np.arange(len(row_data))\n",
    "            seen_idx = np.random.choice(data_idx, size=sample_size, replace=False)\n",
    "            unseen_idx = np.setdiff1d(data_idx, seen_idx)\n",
    "            \n",
    "            #appending data to matrices\n",
    "            seen_data = np.append(seen_data, row_data[seen_idx])\n",
    "            unseen_data = np.append(unseen_data, row_data[unseen_idx])\n",
    "\n",
    "            #appending indices\n",
    "            seen_indices = np.append(seen_indices, row_indices[seen_idx])\n",
    "            unseen_indices = np.append(unseen_indices, row_indices[unseen_idx])\n",
    "\n",
    "            seen_indptr = np.append(seen_indptr, [seen_indptr[-1] + len(seen_idx)])\n",
    "            unseen_indptr = np.append(unseen_indptr, [unseen_indptr[-1] + len(unseen_idx)])\n",
    "        return csr_matrix((seen_data, seen_indices, seen_indptr), dtype=np.float32), csr_matrix((unseen_data, unseen_indices, unseen_indptr),dtype=np.float32)"
   ]
  },
  {
   "cell_type": "code",
   "execution_count": 7,
   "metadata": {},
   "outputs": [],
   "source": [
    "def batch_predict(train, seen, unseen, batch_size, withZeros):\n",
    "    model = AverageRating(withZeros=withZeros)\n",
    "    model.fit(train)\n",
    "\n",
    "    batched_input = list()\n",
    "    if batch_size > seen.shape[0]:\n",
    "        batched_input.append(seen)\n",
    "    else:\n",
    "        for i in range(0, seen.shape[0], batch_size):\n",
    "            batched_input.append(seen[i:i+batch_size])\n",
    "    predictions = list()\n",
    "    for batch in tqdm(batched_input):\n",
    "        predictions.append(model.predict(batch))\n",
    "    y_pred = vstack(predictions)\n",
    "    return y_pred, unseen"
   ]
  },
  {
   "cell_type": "code",
   "execution_count": 8,
   "metadata": {},
   "outputs": [],
   "source": [
    "dataPrep = DataPrep(data)\n",
    "train, seen, unseen = dataPrep.split()"
   ]
  },
  {
   "cell_type": "code",
   "execution_count": 9,
   "metadata": {},
   "outputs": [
    {
     "name": "stdout",
     "output_type": "stream",
     "text": [
      "train shape: (130033, 59047)\n",
      "test shape: (32509, 59047)\n"
     ]
    }
   ],
   "source": [
    "print(f\"train shape: {train.shape}\")\n",
    "print(f\"test shape: {dataPrep.test.shape}\")"
   ]
  },
  {
   "cell_type": "code",
   "execution_count": 10,
   "metadata": {},
   "outputs": [],
   "source": [
    "assert unseen.nnz + seen.nnz == dataPrep.test.nnz"
   ]
  },
  {
   "cell_type": "markdown",
   "metadata": {},
   "source": [
    "## Fitting"
   ]
  },
  {
   "cell_type": "code",
   "execution_count": 11,
   "metadata": {},
   "outputs": [
    {
     "name": "stderr",
     "output_type": "stream",
     "text": [
      "100%|██████████| 7/7 [00:32<00:00,  4.71s/it]\n"
     ]
    }
   ],
   "source": [
    "y_pred, y_true = batch_predict(train, seen, unseen, batch_size=5000, withZeros=False)"
   ]
  },
  {
   "cell_type": "code",
   "execution_count": 12,
   "metadata": {},
   "outputs": [
    {
     "name": "stderr",
     "output_type": "stream",
     "text": [
      "100%|██████████| 7/7 [00:31<00:00,  4.56s/it]\n"
     ]
    }
   ],
   "source": [
    "y_pred_zeros, y_true_zeros = batch_predict(train,seen,unseen,batch_size=5000,withZeros=True)"
   ]
  },
  {
   "cell_type": "markdown",
   "metadata": {},
   "source": [
    "# Evaluation"
   ]
  },
  {
   "cell_type": "code",
   "execution_count": 13,
   "metadata": {},
   "outputs": [],
   "source": [
    "def score(predicted, true, rmse=True, pearson=True, sparsity=True, set_diff=True):\n",
    "    nonzeros = true.nonzero()\n",
    "    y_true = np.array(true[nonzeros], dtype=np.float32)[0]\n",
    "    y_pred = np.array(predicted[nonzeros], dtype=np.float32)[0]\n",
    "    if rmse:\n",
    "        print(f\"rmse: {sqrt(mean_squared_error(y_true, y_pred))}\")\n",
    "    if pearson:\n",
    "        print(f\"r2 score: {r2_score(y_true, y_pred)}\")\n",
    "    if set_diff:\n",
    "        print(\"starting set_diff\")\n",
    "        #batching set diff\n",
    "        batch_size=400\n",
    "        pred_batched = list()\n",
    "        true_batched = list()\n",
    "        for i in range(0, true.shape[0], batch_size):\n",
    "            pred_batched.append(predicted[i:i+batch_size])\n",
    "            true_batched.append(true[i:i+batch_size])\n",
    "        pair_in_both = 0\n",
    "        pair_in_true = 0\n",
    "        print(\"finding set-diff for user-movie pairs\")\n",
    "        for pred_batch, true_batch in tqdm(zip(pred_batched, true_batched)):\n",
    "            pred_users, pred_movies = pred_batch.nonzero()\n",
    "            pred_pairs = set(zip(pred_users,pred_movies))\n",
    "            true_users, true_movies = true_batch.nonzero()\n",
    "            true_pairs = set(zip(true_users, true_movies))\n",
    "\n",
    "            pair_in_both += len(true_pairs.intersection(pred_pairs))\n",
    "            pair_in_true += len(true_pairs)\n",
    "\n",
    "        print(f\"Fraction of user-movie pairs with non-zero predicted ratings: {pair_in_both / pair_in_true}\")\n",
    "    if sparsity:\n",
    "        print(f\"Sparsity: {predicted.getnnz() / (predicted.shape[0] * predicted.shape[1])}\")"
   ]
  },
  {
   "cell_type": "code",
   "execution_count": 14,
   "metadata": {},
   "outputs": [
    {
     "name": "stdout",
     "output_type": "stream",
     "text": [
      "rmse: 0.9669441804505301\n",
      "r2 score: 0.1661065763454892\n",
      "starting set_diff\n",
      "finding set-diff for user-movie pairs\n"
     ]
    },
    {
     "name": "stderr",
     "output_type": "stream",
     "text": [
      "82it [15:27, 11.31s/it]\n"
     ]
    },
    {
     "name": "stdout",
     "output_type": "stream",
     "text": [
      "Fraction of user-movie pairs with non-zero predicted ratings: 0.9987063261930027\n",
      "Sparsity: 0.9150168509831151\n"
     ]
    }
   ],
   "source": [
    "score(y_pred, y_true)"
   ]
  },
  {
   "cell_type": "code",
   "execution_count": 15,
   "metadata": {},
   "outputs": [
    {
     "name": "stdout",
     "output_type": "stream",
     "text": [
      "rmse: 3.3562849160194967\n",
      "r2 score: -9.046743485331652\n",
      "starting set_diff\n",
      "finding set-diff for user-movie pairs\n"
     ]
    },
    {
     "name": "stderr",
     "output_type": "stream",
     "text": [
      "82it [15:33, 11.39s/it]"
     ]
    },
    {
     "name": "stdout",
     "output_type": "stream",
     "text": [
      "Fraction of user-movie pairs with non-zero predicted ratings: 0.9987063261930027\n",
      "Sparsity: 0.9150168509831151\n"
     ]
    },
    {
     "name": "stderr",
     "output_type": "stream",
     "text": [
      "\n"
     ]
    }
   ],
   "source": [
    "score(y_pred_zeros, y_true_zeros)"
   ]
  },
  {
   "cell_type": "markdown",
   "metadata": {},
   "source": [
    "#### Boxplots"
   ]
  },
  {
   "cell_type": "code",
   "execution_count": 16,
   "metadata": {},
   "outputs": [],
   "source": [
    "nonzeros = y_true.nonzero()\n",
    "y_true = np.array(y_true[nonzeros], dtype=np.float32)[0]\n",
    "y_pred = np.array(y_pred[nonzeros], dtype=np.float32)[0]"
   ]
  },
  {
   "cell_type": "code",
   "execution_count": 51,
   "metadata": {},
   "outputs": [],
   "source": [
    "y_true_zeros_condensed = np.array(y_true_zeros[nonzeros], dtype=np.float32)[0]\n",
    "y_pred_zeros_condensed = np.array(y_pred_zeros[nonzeros], dtype=np.float32)[0]"
   ]
  },
  {
   "cell_type": "code",
   "execution_count": 53,
   "metadata": {},
   "outputs": [],
   "source": [
    "import matplotlib.pyplot as plt\n",
    "def make_boxplots(y_true, y_pred):\n",
    "    fig, ax = plt.subplots()\n",
    "    subset_data = list()\n",
    "    for step in np.arange(0.5,5.1,.5):\n",
    "        step_idx = np.where(y_true == step)\n",
    "        subset_data.append(y_pred[step_idx])\n",
    "    ax.boxplot(subset_data, positions=np.arange(0.5,5.1,.5))\n",
    "    plt.xlabel(\"y_true\")\n",
    "    plt.ylabel(\"y_pred\")\n",
    "    plt.title(\"Boxplot of true vs. predicted ratings\")\n",
    "    plt.show()"
   ]
  },
  {
   "cell_type": "code",
   "execution_count": 54,
   "metadata": {},
   "outputs": [
    {
     "data": {
      "image/png": "[encoded data removed]",
      "text/plain": [
       "<Figure size 640x480 with 1 Axes>"
      ]
     },
     "metadata": {},
     "output_type": "display_data"
    }
   ],
   "source": [
    "make_boxplots(y_true, y_pred)"
   ]
  },
  {
   "cell_type": "code",
   "execution_count": 55,
   "metadata": {},
   "outputs": [
    {
     "data": {
      "image/png": "[encoded data removed]",
      "text/plain": [
       "<Figure size 640x480 with 1 Axes>"
      ]
     },
     "metadata": {},
     "output_type": "display_data"
    }
   ],
   "source": [
    "make_boxplots(y_true_zeros_condensed, y_pred_zeros_condensed)"
   ]
  }
 ],
 "metadata": {
  "kernelspec": {
   "display_name": "Python 3",
   "language": "python",
   "name": "python3"
  },
  "language_info": {
   "codemirror_mode": {
    "name": "ipython",
    "version": 3
   },
   "file_extension": ".py",
   "mimetype": "text/x-python",
   "name": "python",
   "nbconvert_exporter": "python",
   "pygments_lexer": "ipython3",
   "version": "3.11.5"
  }
 },
 "nbformat": 4,
 "nbformat_minor": 2
}
